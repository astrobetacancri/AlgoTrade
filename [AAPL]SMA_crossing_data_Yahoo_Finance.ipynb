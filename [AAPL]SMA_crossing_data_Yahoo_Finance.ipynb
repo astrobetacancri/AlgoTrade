# Install Yahoo Finance
!pip install yahoofinance
