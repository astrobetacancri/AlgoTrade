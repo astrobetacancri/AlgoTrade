# Define Stock Ticker HERE, then Run all
STOCK = 'arkk'
print(STOCK)

# Install Yahoo Finance
!pip install yahoofinance

import yahoofinance as yf
profile = yf.AssetProfile('AAPL')
profile.to_csv(STOCK + '-profile.csv')

import pandas as pd
import numpy as np 
from datetime import datetime 
import matplotlib.pyplot as plt
%matplotlib inline

historical = yf.HistoricalPrices(STOCK, '2020-01-01', '2021-06-21')
dfs = historical.to_dfs()
df = dfs['Historical Prices']

Dataframe = df
df.index = pd.to_datetime(df.index)
Dataframe

fig1 = plt.figure(figsize=(15,10))
plt.xlabel('Date')
plt.ylabel('Price ($)')
plt.title('Stock Share Price')
plt.plot(df[['Close']])
plt.grid(c='grey')
plt.xticks(rotation=45)

# Visualize the data
plt.figure(figsize=(12.5,4.5))
plt.plot(Dataframe['Adj Close'], label=STOCK)
plt.title('STOCK Adj. Close Price History')
plt.xlabel('Year')
plt.ylabel('Adj. Close Price USD ($)')
plt.legend(loc='upper left')
plt.show()

# Create the simple moving average with a 30 day window 
SMA30 = pd.DataFrame()
SMA30['Adj Close Price'] = Dataframe['Adj Close'].rolling(window= 30).mean()
SMA30

# Create a simple moving 100 day average 
SMA100 = pd.DataFrame()
SMA100['Adj Close Price'] = Dataframe['Adj Close'].rolling(window= 100).mean()
SMA100 

# Visualize the data
plt.figure(figsize=(12.5,4.5))
plt.plot(Dataframe['Adj Close'], label = STOCK)
plt.plot(SMA30, label = 'SMA30')
plt.plot(SMA100, label = 'SMA100')
plt.title('STOCK Adj. Close Price History')
plt.xlabel('Oct. 02, 2006 - Dec. 30, 2011')
plt.ylabel('Adj. Close Price USD ($)')
plt.legend(loc='upper left')
plt.show()

# Create a new data frame to store all the data
data = pd.DataFrame()
data[STOCK] = Dataframe['Adj Close']
data['SMA30']= SMA30
data['SMA100']= SMA100
data

# Create a function to signal when to buy and sell the asset/stock
def buy_sell(data):
  sigPriceBuy =[]
  sigPriceSell=[]
  flag=-1

  for i in range(len(data)):
    if data['SMA30'][i] > data['SMA100'][i]:
      if flag != 1:
        sigPriceBuy.append(data[STOCK][i])
        sigPriceSell.append(np.nan)
        flag =1
      else:
        sigPriceBuy.append(np.nan)
        sigPriceSell.append(np.nan)
    elif data['SMA30'][i] < data['SMA100'][i]:
      if flag != 0:
        sigPriceBuy.append(np.nan)
        sigPriceSell.append(data[STOCK][i])
        flag = 0
      else:
        sigPriceBuy.append(np.nan)
        sigPriceSell.append(np.nan)
    else:
        sigPriceBuy.append(np.nan)
        sigPriceSell.append(np.nan)

  return (sigPriceBuy, sigPriceSell)

# Store the buy and sell data into a variable 
buy_sell = buy_sell(data)
data['Buy_Signal_Price'] = buy_sell[0]
data['Sell_Signal_Price'] = buy_sell[1]

# Show the data
data

# Remove NA Buy data 
Buy_data = data.dropna(how='any', subset = ["Buy_Signal_Price"])
print(Buy_data)

# Remove NA Sell data 
Sell_data = data.dropna(how='any', subset = ["Sell_Signal_Price"])
print(Sell_data)

Results 
Buy Sell Signal Dates & plot

# Print Sell Signal Date(s)
Sell_data.iloc[:,0]

# Print Buy Signal Date(s)
Buy_data.iloc[:,0]

# Visualize the data and the strategy to buy and sell the stock
plt.figure(figsize=(12.6,4.6))
plt.plot(data[STOCK],label = STOCK, alpha = 0.35)
plt.plot(data['SMA30'], label='SMA30', alpha = 0.35)
plt.plot(data['SMA100'], label='SMA100', alpha = 0.35)
plt.scatter(data.index, data['Buy_Signal_Price'], label = 'Buy', marker = '^', color = 'green')
plt.scatter(data.index, data['Sell_Signal_Price'], label = 'Sell', marker = 'v', color = 'red')
plt.title('STOCK Adj. Close Price History Buy & Sell Signals')
plt.xlabel('Oct. 02, 2006 - Dec. 30, 2011')
plt.ylabel('Adj. Close Price USD ($)')
plt.legend(loc='upper left')
plt.show()

